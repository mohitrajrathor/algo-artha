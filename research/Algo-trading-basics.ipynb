{
 "cells": [
  {
   "cell_type": "markdown",
   "metadata": {},
   "source": [
    "# Algo-Trading:\n",
    "### Content:\n",
    "+ What is Algo-Trading?\n",
    "+ Steps to master before trade using algorithms\n",
    "    - Risk Management\n",
    "    - Stretegy Develpoment\n",
    "    - Backtesting"
   ]
  },
  {
   "cell_type": "code",
   "execution_count": null,
   "metadata": {},
   "outputs": [],
   "source": []
  }
 ],
 "metadata": {
  "language_info": {
   "name": "python"
  }
 },
 "nbformat": 4,
 "nbformat_minor": 2
}
