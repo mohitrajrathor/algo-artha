{
 "cells": [
  {
   "cell_type": "markdown",
   "metadata": {},
   "source": [
    "# Stock Analysis\n",
    "+ Analysis of nifty-50 stocks for :\n",
    "    - Data Distribution\n",
    "    - Discriptive analysis\n",
    "    - Get insight about trends\n",
    "        + UpTrend\n",
    "        + DownTrend\n",
    "    - Get insight about variouse indicator like\n",
    "        + RSI - Relative Strength Index\n",
    "        + Moving Averages\n",
    "        + ATR - Average True Range\n",
    "        + ADX - Average Directional Index\n",
    "    "
   ]
  },
  {
   "cell_type": "markdown",
   "metadata": {},
   "source": [
    "### 1. Data Collection:"
   ]
  },
  {
   "cell_type": "code",
   "execution_count": 9,
   "metadata": {},
   "outputs": [],
   "source": [
    "import yfinance"
   ]
  },
  {
   "cell_type": "code",
   "execution_count": 3,
   "metadata": {},
   "outputs": [],
   "source": [
    "def findprefix(strs):\n",
    "    if not strs:\n",
    "        return \"\"\n",
    "    \n",
    "    strs.sort()\n",
    "\n",
    "    first = strs[0]\n",
    "    last = strs[-1]\n",
    "\n",
    "    print(first, last)\n",
    "\n",
    "    result = []\n",
    "\n",
    "    for i in range(len(first)):\n",
    "        if i < len(last) and first[i] == last[i]:\n",
    "            result.append(first[i])\n",
    "            print(result)\n",
    "        else:\n",
    "            break\n",
    "        \n",
    "    return ''.join(result)\n"
   ]
  },
  {
   "cell_type": "code",
   "execution_count": 4,
   "metadata": {},
   "outputs": [
    {
     "name": "stdout",
     "output_type": "stream",
     "text": [
      "flighter rqqmd\n"
     ]
    },
    {
     "data": {
      "text/plain": [
       "''"
      ]
     },
     "execution_count": 4,
     "metadata": {},
     "output_type": "execute_result"
    }
   ],
   "source": [
    "findprefix([\"flower\", \"rqqmd\", \"flow\", \"flighter\"])"
   ]
  },
  {
   "cell_type": "code",
   "execution_count": null,
   "metadata": {},
   "outputs": [],
   "source": []
  }
 ],
 "metadata": {
  "kernelspec": {
   "display_name": "base",
   "language": "python",
   "name": "python3"
  },
  "language_info": {
   "codemirror_mode": {
    "name": "ipython",
    "version": 3
   },
   "file_extension": ".py",
   "mimetype": "text/x-python",
   "name": "python",
   "nbconvert_exporter": "python",
   "pygments_lexer": "ipython3",
   "version": "3.11.5"
  }
 },
 "nbformat": 4,
 "nbformat_minor": 2
}
